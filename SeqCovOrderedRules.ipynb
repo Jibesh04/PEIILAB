{
  "nbformat": 4,
  "nbformat_minor": 0,
  "metadata": {
    "colab": {
      "provenance": []
    },
    "kernelspec": {
      "name": "python3",
      "display_name": "Python 3"
    },
    "language_info": {
      "name": "python"
    }
  },
  "cells": [
    {
      "cell_type": "code",
      "execution_count": null,
      "metadata": {
        "id": "N3fX663-73W5"
      },
      "outputs": [],
      "source": []
    },
    {
      "cell_type": "code",
      "source": [
        "def sequential_covering(examples):\n",
        "    rules = []\n",
        "    remaining_examples = examples.copy()\n",
        "\n",
        "    while not remaining_examples.empty:\n",
        "        rule = generate_rule(remaining_examples)\n",
        "        if rule not in rules:\n",
        "            rules.append(rule)\n",
        "        else:\n",
        "            break\n",
        "        remaining_examples = remove_covered_examples(remaining_examples, rule)\n",
        "\n",
        "    return rules\n",
        "\n",
        "# def sequential_covering(examples):\n",
        "#     rules = []\n",
        "#     remaining_examples = examples.copy()\n",
        "#     covered_attributes = []\n",
        "\n",
        "#     while not remaining_examples.empty:\n",
        "#         rule = generate_rule(remaining_examples, covered_attributes)\n",
        "#         rules.append(rule)\n",
        "#         print(rule)\n",
        "#         covered_attributes.extend(rule.keys())  # Update the list of covered attributes\n",
        "#         remaining_examples = remove_covered_examples(remaining_examples, rule)\n",
        "\n",
        "#     return rules\n",
        "\n",
        "\n",
        "def generate_rule(examples):\n",
        "    rule = {}\n",
        "    for attribute in examples.columns[:]:\n",
        "        value = examples[attribute].mode()[0]\n",
        "        rule[attribute] = value\n",
        "\n",
        "    return rule\n",
        "\n",
        "# def generate_rule(examples, covered_attributes=[]):\n",
        "#     rule = {}\n",
        "#     for attribute in examples.columns[:]:\n",
        "#         if attribute not in covered_attributes:\n",
        "#             value = examples[attribute].mode()[0]\n",
        "#             rule[attribute] = value\n",
        "\n",
        "#     return rule\n",
        "\n",
        "\n",
        "def remove_covered_examples(examples, rule):\n",
        "    for i, row in enumerate(examples):\n",
        "        flag = True\n",
        "        for attribute, value in rule.items():\n",
        "            flag = flag and examples[attribute].loc[examples.index[i]] == value\n",
        "        if flag:\n",
        "            examples = examples.drop(examples.index[i])\n",
        "    # for attribute, value in rule.items():\n",
        "    #     examples = examples[examples[attribute] != value]\n",
        "    return examples\n",
        "\n",
        "# Example usage\n",
        "import pandas as pd\n",
        "\n",
        "# Example dataset\n",
        "data = {\n",
        "    'Outlook': ['Sunny', 'Sunny', 'Overcast', 'Rainy', 'Rainy', 'Rainy', 'Overcast', 'Sunny', 'Sunny', 'Rainy', 'Sunny', 'Overcast', 'Overcast', 'Rainy'],\n",
        "    'Temperature': ['Hot', 'Hot', 'Hot', 'Mild', 'Cool', 'Cool', 'Cool', 'Mild', 'Cool', 'Mild', 'Mild', 'Mild', 'Hot', 'Mild'],\n",
        "    'Humidity': ['High', 'High', 'High', 'High', 'Normal', 'Normal', 'Normal', 'High', 'Normal', 'Normal', 'Normal', 'High', 'Normal', 'High'],\n",
        "    'Windy': ['Weak', 'Strong', 'Weak', 'Weak', 'Weak', 'Strong', 'Strong', 'Weak', 'Weak', 'Weak', 'Strong', 'Strong', 'Weak', 'Strong'],\n",
        "    'PlayTennis': ['No', 'No', 'Yes', 'Yes', 'Yes', 'No', 'Yes', 'No', 'Yes', 'Yes', 'Yes', 'Yes', 'Yes', 'No']\n",
        "}\n",
        "\n",
        "df = pd.DataFrame(data)\n",
        "\n",
        "rules = sequential_covering(df)\n",
        "for i, rule in enumerate(rules):\n",
        "    print(f\"Rule {i+1}: {rule}\")"
      ],
      "metadata": {
        "id": "wu7Ram1-W_MT",
        "colab": {
          "base_uri": "https://localhost:8080/"
        },
        "outputId": "18ce9195-bcb9-47c5-99ab-b13cd00525cf"
      },
      "execution_count": 1,
      "outputs": [
        {
          "output_type": "stream",
          "name": "stdout",
          "text": [
            "Rule 1: {'Outlook': 'Rainy', 'Temperature': 'Mild', 'Humidity': 'High', 'Windy': 'Weak', 'PlayTennis': 'Yes'}\n",
            "Rule 2: {'Outlook': 'Sunny', 'Temperature': 'Mild', 'Humidity': 'Normal', 'Windy': 'Weak', 'PlayTennis': 'Yes'}\n"
          ]
        }
      ]
    },
    {
      "cell_type": "code",
      "source": [],
      "metadata": {
        "id": "pi8fTDuJ76zk"
      },
      "execution_count": null,
      "outputs": []
    }
  ]
}