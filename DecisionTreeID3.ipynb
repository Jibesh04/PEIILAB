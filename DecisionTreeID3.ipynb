{
  "nbformat": 4,
  "nbformat_minor": 0,
  "metadata": {
    "colab": {
      "provenance": []
    },
    "kernelspec": {
      "name": "python3",
      "display_name": "Python 3"
    },
    "language_info": {
      "name": "python"
    }
  },
  "cells": [
    {
      "cell_type": "code",
      "execution_count": 24,
      "metadata": {
        "colab": {
          "base_uri": "https://localhost:8080/"
        },
        "id": "GjUFD4IVh5wW",
        "outputId": "5c1d870a-277d-41c8-e2ad-ea620c4317ee"
      },
      "outputs": [
        {
          "output_type": "stream",
          "name": "stdout",
          "text": [
            "    day   outlook temperature humidity    wind play-tennis\n",
            "0    D1     Sunny         Hot     High    Weak          No\n",
            "1    D2     Sunny         Hot     High  Strong          No\n",
            "2    D3  Overcast         Hot     High    Weak         Yes\n",
            "3    D4      Rain        Mild     High    Weak         Yes\n",
            "4    D5      Rain        Cool   Normal    Weak         Yes\n",
            "5    D6      Rain        Cool   Normal  Strong          No\n",
            "6    D7  Overcast        Cool   Normal  Strong         Yes\n",
            "7    D8     Sunny        Mild     High    Weak          No\n",
            "8    D9     Sunny        Cool   Normal    Weak         Yes\n",
            "9   D10      Rain        Mild   Normal    Weak         Yes\n",
            "10  D11     Sunny        Mild   Normal  Strong         Yes\n",
            "11  D12  Overcast        Mild     High  Strong         Yes\n",
            "12  D13  Overcast         Hot   Normal    Weak         Yes\n",
            "13  D14      Rain        Mild     High  Strong          No\n",
            "\n",
            "Decision Tree:\n",
            "{'outlook': {'Overcast': 'Yes',\n",
            "             'Rain': {'wind': {'Strong': 'No', 'Weak': 'Yes'}},\n",
            "             'Sunny': {'humidity': {'High': 'No', 'Normal': 'Yes'}}}}\n"
          ]
        }
      ],
      "source": [
        "import pandas as pd\n",
        "import numpy as np\n",
        "import pprint\n",
        "# eps is used to avoid division by zero exception and log(0) invalid expression\n",
        "eps = np.finfo(float).eps\n",
        "\n",
        "# find entropy for the dataset\n",
        "def find_entropy(df):\n",
        "    # assuming the last attribute of dataset to be the target\n",
        "    target = df.keys()[-1]\n",
        "    values = df[target].unique()\n",
        "    # implementing the formula of sum( -(p_i)log_2(p_i))\n",
        "    entropy = 0\n",
        "    for value in values:\n",
        "        fraction = df[target].value_counts()[value] / len(df[target])\n",
        "        entropy += -fraction * np.log2(fraction)\n",
        "    return entropy\n",
        "\n",
        "# find individual attribute's entropy (used in information gain calculation)\n",
        "def find_entropy_attribute(df, attribute):\n",
        "    # assuming the last attribute of dataset to be the target\n",
        "    target = df.keys()[-1]\n",
        "    # values of the target attribute\n",
        "    target_values = df[target].unique()\n",
        "    # values of the considered attribute\n",
        "    values = df[attribute].unique()\n",
        "    # implementation of the sum(fraction*entropy(attribute))\n",
        "    # to be deducted from entropy of dataset to obtain information gain\n",
        "    entropy_attribute = 0\n",
        "    for value in values:\n",
        "        entropy_each_feature = 0\n",
        "        for target_value in target_values:\n",
        "            # numerator represents number of instances where the target value is obtained\n",
        "            num = len(df[attribute] [df[attribute] == value] [df[target] == target_value])\n",
        "            # denominator represents total number of instances with particular attribute value considered\n",
        "            den = len(df[attribute] [df[attribute] == value])\n",
        "            fraction = num / (den + eps)\n",
        "            entropy_each_feature += -fraction * np.log2(fraction + eps)\n",
        "        # fraction of number of instances with particular value for attribute w.r.t. total number of instances\n",
        "        fraction2 = den/len(df)\n",
        "        entropy_attribute += -fraction2 * entropy_each_feature\n",
        "\n",
        "    return abs(entropy_attribute)\n",
        "\n",
        "def find_decider(df):\n",
        "    # returns the one attribute having highest gain in the passed dataset\n",
        "    info_gain = []\n",
        "    for key in df.keys()[1:-1]:\n",
        "        info_gain.append(find_entropy(df) - find_entropy_attribute(df, key))\n",
        "    return df.keys()[1:-1][np.argmax(info_gain)]\n",
        "\n",
        "def get_subtable(df, node, value):\n",
        "    # returns subtable having particular value of attribute and eliminates the column\n",
        "    return df[df[node] == value].reset_index(drop=True)\n",
        "\n",
        "\n",
        "def buildTree(df, tree=None):\n",
        "    # builds the decision tree\n",
        "    target = df.keys()[-1]\n",
        "    # root is the node with highest gain\n",
        "    node = find_decider(df)\n",
        "    # different values of the root\n",
        "    values = np.unique(df[node])\n",
        "\n",
        "    # initializing empty dictionary to store tree\n",
        "    if tree is None:\n",
        "        tree = {}\n",
        "        tree[node] = {}\n",
        "\n",
        "    # for each value of the root, further subtree are appended until leaf becomes either of the target values\n",
        "    for value in values:\n",
        "        subtable = get_subtable(df, node, value)\n",
        "        target_value, counts = np.unique(subtable[target], return_counts=True)\n",
        "\n",
        "        # single target value observed, leaf is added with the value\n",
        "        if len(counts) == 1:\n",
        "            tree[node][value] = target_value[0]\n",
        "        # need to call it recursively to complete the decision tree\n",
        "        else:\n",
        "            tree[node][value] = buildTree(subtable)\n",
        "    return tree\n",
        "\n",
        "if __name__ == \"__main__\":\n",
        "    # reads the dataset\n",
        "    df = pd.read_csv('tennisDT.csv')\n",
        "    print(df)\n",
        "    # decision tree is built\n",
        "    t = buildTree(df)\n",
        "    # pprint (pretty print) is used for better output interpretability\n",
        "    print(\"\\nDecision Tree:\")\n",
        "    pprint.pprint(t)\n",
        "\n",
        "\n",
        "## OUTPUT\n",
        "# {'outlook': {'Overcast': 'Yes',\n",
        "#              'Rain': {'wind': {'Strong': 'No', 'Weak': 'Yes'}},\n",
        "#              'Sunny': {'humidity': {'High': 'No', 'Normal': 'Yes'}}}}"
      ]
    },
    {
      "cell_type": "code",
      "source": [
        "import pandas as pd\n",
        "\n",
        "# def classify_sample(sample, tree):\n",
        "#     # Check if the tree is a leaf node\n",
        "#     if not isinstance(tree, dict):\n",
        "#         return tree\n",
        "\n",
        "#     # Get the attribute in the sample\n",
        "#     attribute = next(iter(tree))\n",
        "\n",
        "#     # Check if the attribute is present in the sample\n",
        "#     if attribute in sample:\n",
        "#         # Get the value of the attribute in the sample\n",
        "#         value = sample[attribute]\n",
        "\n",
        "#         # Check if the value is present in the current node of the tree\n",
        "#         if value in tree[attribute]:\n",
        "#             # Continue traversal\n",
        "#             return classify_sample(sample, tree[attribute][value])\n",
        "\n",
        "#     # If attribute or value is not present, return the current node as the classification\n",
        "#     return tree\n",
        "\n",
        "def classify_sample(sample, tree):\n",
        "    # Check if the tree is a leaf node\n",
        "    if not isinstance(tree, dict):\n",
        "        return tree\n",
        "\n",
        "    # Get the attribute in the sample\n",
        "    attribute = next(iter(tree))\n",
        "\n",
        "    # Check if the attribute is present in the sample\n",
        "    if attribute in sample:\n",
        "        # Get the value of the attribute in the sample\n",
        "        value = sample[attribute]\n",
        "\n",
        "        # Check if the value is present in the current node of the tree\n",
        "        if value in tree[attribute]:\n",
        "            # Continue traversal\n",
        "            return classify_sample(sample, tree[attribute][value])\n",
        "\n",
        "    # If attribute or value is not present, return a default classification value\n",
        "    return \"Unknown\"\n",
        "\n",
        "if __name__ == \"__main__\":\n",
        "    # Read the creative samples CSV file\n",
        "    df_pred = pd.read_csv('tennisPred.csv')\n",
        "\n",
        "    # Apply the decision tree classification on the entire creative samples dataset\n",
        "    df_pred['classification'] = df_pred.apply(lambda row: classify_sample(row.to_dict(), t), axis=1)\n",
        "\n",
        "    # Output the classification result\n",
        "    print(df_pred[['outlook', 'temperature', 'humidity', 'wind', 'play', 'classification']])\n"
      ],
      "metadata": {
        "colab": {
          "base_uri": "https://localhost:8080/"
        },
        "id": "JN_QmcsOiHLC",
        "outputId": "25462d46-eb54-45ca-ee2c-4666f5d8a97d"
      },
      "execution_count": 25,
      "outputs": [
        {
          "output_type": "stream",
          "name": "stdout",
          "text": [
            "     outlook temperature humidity    wind play classification\n",
            "0   Overcast         Hot   Normal    Weak  Yes            Yes\n",
            "1      Sunny        Mild     High    Weak   No             No\n",
            "2      Sunny        Cool     High    Weak  Yes             No\n",
            "3       Rain        Cool     High  Strong   No             No\n",
            "4      Sunny         Hot   Normal  Strong  Yes            Yes\n",
            "5   Overcast        Mild   Normal    Weak  Yes            Yes\n",
            "6       Rain        Mild     High    Weak  Yes            Yes\n",
            "7      Sunny        Cool   Normal  Strong   No            Yes\n",
            "8      Sunny         Hot     High    Weak   No             No\n",
            "9       Rain        Cool   Normal    Weak  Yes            Yes\n",
            "10  Overcast        Mild   Normal  Strong  Yes            Yes\n",
            "11     Sunny        Cool     High  Strong   No             No\n",
            "12     Sunny        Mild   Normal    Weak  Yes            Yes\n",
            "13  Overcast         Hot     High    Weak  Yes            Yes\n",
            "14      Rain        Mild   Normal  Strong   No             No\n"
          ]
        }
      ]
    },
    {
      "cell_type": "code",
      "source": [
        "\n",
        "def classification_error(df, target_column, predicted_column):\n",
        "    \"\"\"\n",
        "    Calculate classification error.\n",
        "\n",
        "    Parameters:\n",
        "    - df: DataFrame, the dataset\n",
        "    - target_column: str, the column containing the actual classifications\n",
        "    - predicted_column: str, the column containing the predicted classifications\n",
        "\n",
        "    Returns:\n",
        "    - error_rate: float, the classification error rate\n",
        "    \"\"\"\n",
        "    incorrect_predictions = df[df[target_column] != df[predicted_column]]\n",
        "    error_rate = len(incorrect_predictions) / len(df)\n",
        "    return error_rate\n",
        "\n",
        "error_rate = classification_error(df_pred, 'play', 'classification')\n",
        "print(f\"Classification Error Rate: {error_rate * 100:.2f}%\")"
      ],
      "metadata": {
        "colab": {
          "base_uri": "https://localhost:8080/"
        },
        "id": "-ZO85xFcnWxX",
        "outputId": "8a05d89e-8434-41bf-f9ce-ca07c9bde6ad"
      },
      "execution_count": 26,
      "outputs": [
        {
          "output_type": "stream",
          "name": "stdout",
          "text": [
            "Classification Error Rate: 13.33%\n"
          ]
        }
      ]
    },
    {
      "cell_type": "code",
      "source": [],
      "metadata": {
        "id": "Y7Ts3zOCooBI"
      },
      "execution_count": null,
      "outputs": []
    },
    {
      "cell_type": "code",
      "source": [
        "def classify_sample(sample, tree):\n",
        "    # Check if the tree is a leaf node\n",
        "    if not isinstance(tree, dict):\n",
        "        return tree\n",
        "\n",
        "    # Get the attribute in the sample\n",
        "    attribute = next(iter(tree))\n",
        "\n",
        "    # Check if the attribute is present in the sample\n",
        "    if attribute in sample:\n",
        "        # Get the value of the attribute in the sample\n",
        "        value = sample[attribute]\n",
        "\n",
        "        # Check if the value is present in the current node of the tree\n",
        "        if value in tree[attribute]:\n",
        "            # Continue traversal\n",
        "            return classify_sample(sample, tree[attribute][value])\n",
        "\n",
        "    # If attribute or value is not present, return the current node as the classification\n",
        "    return tree\n",
        "\n",
        "if __name__ == \"__main__\":\n",
        "    # Sample data for classification\n",
        "    new_sample = {'outlook': 'Sunny', 'temperature': 'Cool', 'humidity': 'High', 'wind': 'Weak'}\n",
        "\n",
        "    # Applying the decision tree on the new sample\n",
        "    classification_result = classify_sample(new_sample, t)\n",
        "\n",
        "    # Output the classification result\n",
        "    print(f\"The classification result for the new sample is: {classification_result}\")\n"
      ],
      "metadata": {
        "colab": {
          "base_uri": "https://localhost:8080/"
        },
        "id": "nI7G4l8yh7-X",
        "outputId": "01460963-4218-486a-e6e8-790412e2f469"
      },
      "execution_count": 8,
      "outputs": [
        {
          "output_type": "stream",
          "name": "stdout",
          "text": [
            "The classification result for the new sample is: No\n"
          ]
        }
      ]
    }
  ]
}